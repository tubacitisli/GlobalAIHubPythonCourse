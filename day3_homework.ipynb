{
  "nbformat": 4,
  "nbformat_minor": 0,
  "metadata": {
    "colab": {
      "name": "day3_homework.ipynb",
      "provenance": [],
      "collapsed_sections": [],
      "authorship_tag": "ABX9TyOQjaoPH3zVFaLLAreWNiyh",
      "include_colab_link": true
    },
    "kernelspec": {
      "name": "python3",
      "display_name": "Python 3"
    },
    "language_info": {
      "name": "python"
    }
  },
  "cells": [
    {
      "cell_type": "markdown",
      "metadata": {
        "id": "view-in-github",
        "colab_type": "text"
      },
      "source": [
        "<a href=\"https://colab.research.google.com/github/tubacitisli/GlobalAIHubPythonCourse/blob/main/day3_homework.ipynb\" target=\"_parent\"><img src=\"https://colab.research.google.com/assets/colab-badge.svg\" alt=\"Open In Colab\"/></a>"
      ]
    },
    {
      "cell_type": "code",
      "metadata": {
        "colab": {
          "base_uri": "https://localhost:8080/"
        },
        "id": "WaXE9fL9g2EE",
        "outputId": "732b2914-82a4-47f3-9042-d4bac6fb2b6a"
      },
      "source": [
        "#Day-3 HomeWork Answers : User Login Application \n",
        "\n",
        "#Answer 1\n",
        "\n",
        "yourUsername = \"Tuba\"   \n",
        "yourPassword = \"12345\"\n",
        "\n",
        "check = False\n",
        "\n",
        "myusername = input(\"Please enter your username: \")\n",
        "mypassword = input(\"Please enter your password: \")\n",
        "\n",
        "for x in range(2):\n",
        "\n",
        "  if myusername == yourUsername and mypassword == yourPassword:\n",
        "    print(\"You have successfully logged in!\")\n",
        "    check = True\n",
        "    break\n",
        "  \n",
        "  else:\n",
        "    print (\"Your username or password is incorrect!\")\n",
        "    myusername = input(\"Please enter your username: \")\n",
        "    mypassword = input(\"Please enter your password: \")\n",
        "\n",
        "if not check:\n",
        "  print(\"Your account has been blocked.\")"
      ],
      "execution_count": 13,
      "outputs": [
        {
          "output_type": "stream",
          "text": [
            "Please enter your username: Salih\n",
            "Please enter your password: 423423\n",
            "Your username or password is incorrect!\n",
            "Please enter your username: Tuba\n",
            "Please enter your password: 12345\n",
            "You have successfully logged in!\n"
          ],
          "name": "stdout"
        }
      ]
    },
    {
      "cell_type": "code",
      "metadata": {
        "colab": {
          "base_uri": "https://localhost:8080/"
        },
        "id": "txqfeqBiCENO",
        "outputId": "56683119-4eed-4573-d0dd-96462d538114"
      },
      "source": [
        "#Extra Answer - with Dictionary Method\n",
        "\n",
        "d = {\"my_username\":\"Tuba\", \"my_password\":\"12345\"}\n",
        "    \n",
        "check = False\n",
        "\n",
        "username = input(\"Please enter your username: \")\n",
        "password = input(\"Please enter your password: \")\n",
        "\n",
        "for x in range(3):\n",
        "\n",
        "    if username == d[\"my_username\"] and password == d[\"my_password\"]:\n",
        "        print(\"You have successfully logged in!\")\n",
        "        check = True\n",
        "        break\n",
        "\n",
        "    else: \n",
        "      print(\"Your username or password is incorrect!\")\n",
        "      username = input(\"Please enter your username: \")\n",
        "      password = input(\"Please enter your password: \")\n",
        "\n",
        "if not check:\n",
        "  print(\"Your account has been blocked.\")\n",
        "\n",
        "\n"
      ],
      "execution_count": 16,
      "outputs": [
        {
          "output_type": "stream",
          "text": [
            "Please enter your username: Melih\n",
            "Please enter your password: 52452\n",
            "Your username or password is incorrect!\n",
            "Please enter your username: Aslı\n",
            "Please enter your password: 46342\n",
            "Your username or password is incorrect!\n",
            "Please enter your username: Tuba\n",
            "Please enter your password: 12345\n",
            "You have successfully logged in!\n"
          ],
          "name": "stdout"
        }
      ]
    }
  ]
}