{
  "nbformat": 4,
  "nbformat_minor": 0,
  "metadata": {
    "colab": {
      "name": "day2_homework.ipynb",
      "provenance": [],
      "collapsed_sections": [],
      "authorship_tag": "ABX9TyNLOJ63PqeIj/pdgCr/K5Tl",
      "include_colab_link": true
    },
    "kernelspec": {
      "name": "python3",
      "display_name": "Python 3"
    },
    "language_info": {
      "name": "python"
    }
  },
  "cells": [
    {
      "cell_type": "markdown",
      "metadata": {
        "id": "view-in-github",
        "colab_type": "text"
      },
      "source": [
        "<a href=\"https://colab.research.google.com/github/tubacitisli/gaih-students-repo-example/blob/main/day2_homework.ipynb\" target=\"_parent\"><img src=\"https://colab.research.google.com/assets/colab-badge.svg\" alt=\"Open In Colab\"/></a>"
      ]
    },
    {
      "cell_type": "code",
      "metadata": {
        "colab": {
          "base_uri": "https://localhost:8080/"
        },
        "id": "E2TKwbyiZ2lP",
        "outputId": "f2e539c6-1f6a-42f5-e725-284883fc86d8"
      },
      "source": [
        "#Day-2 HomeWork Answers\n",
        "\n",
        "#Answer 1\n",
        "\n",
        "myList = list (range(10))\n",
        "\n",
        "a = myList [:5]\n",
        "b = myList [5:]\n",
        "\n",
        "print (\"My New List: \", b + a)"
      ],
      "execution_count": 5,
      "outputs": [
        {
          "output_type": "stream",
          "text": [
            "My New List:  [5, 6, 7, 8, 9, 0, 1, 2, 3, 4]\n"
          ],
          "name": "stdout"
        }
      ]
    },
    {
      "cell_type": "code",
      "metadata": {
        "colab": {
          "base_uri": "https://localhost:8080/"
        },
        "id": "KFzaHhstfGkB",
        "outputId": "5b76dddd-860f-4eb2-a790-ea8c4d62c3d9"
      },
      "source": [
        "#Answer 2\n",
        "\n",
        "n = int (input(\"Please enter number: \" ))\n",
        "\n",
        "if n < 10:\n",
        "\n",
        "    print(\"Even Numbers: \\n \")\n",
        "\n",
        "    for i in range(0, n+1):\n",
        "        \n",
        "        if i % 2 == 0:\n",
        "        \n",
        "          print(i, end = \" \")\n",
        "\n"
      ],
      "execution_count": 36,
      "outputs": [
        {
          "output_type": "stream",
          "text": [
            "Please enter number: 8\n",
            "Even Numbers: \n",
            " \n",
            "0 2 4 6 8 "
          ],
          "name": "stdout"
        }
      ]
    }
  ]
}